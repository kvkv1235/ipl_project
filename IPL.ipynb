{
 "cells": [
  {
   "cell_type": "markdown",
   "id": "ac74064c",
   "metadata": {},
   "source": [
    "Importing required libraries"
   ]
  },
  {
   "cell_type": "code",
   "execution_count": 28,
   "id": "74128ac2",
   "metadata": {},
   "outputs": [],
   "source": [
    "import numpy as np\n",
    "import pandas as pd\n",
    "import matplotlib.pyplot as plt\n",
    "import seaborn as sns"
   ]
  },
  {
   "cell_type": "markdown",
   "id": "b1b91163",
   "metadata": {},
   "source": [
    "Importing Dataset"
   ]
  },
  {
   "cell_type": "code",
   "execution_count": 29,
   "id": "87b91dfd",
   "metadata": {},
   "outputs": [
    {
     "data": {
      "text/html": [
       "<div>\n",
       "<style scoped>\n",
       "    .dataframe tbody tr th:only-of-type {\n",
       "        vertical-align: middle;\n",
       "    }\n",
       "\n",
       "    .dataframe tbody tr th {\n",
       "        vertical-align: top;\n",
       "    }\n",
       "\n",
       "    .dataframe thead th {\n",
       "        text-align: right;\n",
       "    }\n",
       "</style>\n",
       "<table border=\"1\" class=\"dataframe\">\n",
       "  <thead>\n",
       "    <tr style=\"text-align: right;\">\n",
       "      <th></th>\n",
       "      <th>id</th>\n",
       "      <th>date</th>\n",
       "      <th>team1</th>\n",
       "      <th>team2</th>\n",
       "      <th>toss_winner</th>\n",
       "      <th>decision</th>\n",
       "      <th>first_score</th>\n",
       "      <th>first_wkts</th>\n",
       "      <th>second_score</th>\n",
       "      <th>second_wkts</th>\n",
       "      <th>winner</th>\n",
       "      <th>player_of_the_match</th>\n",
       "      <th>most_runs</th>\n",
       "      <th>most_wkts</th>\n",
       "    </tr>\n",
       "  </thead>\n",
       "  <tbody>\n",
       "    <tr>\n",
       "      <th>0</th>\n",
       "      <td>1</td>\n",
       "      <td>March 22,2024</td>\n",
       "      <td>Banglore</td>\n",
       "      <td>Chennai</td>\n",
       "      <td>Banglore</td>\n",
       "      <td>Bat</td>\n",
       "      <td>173</td>\n",
       "      <td>6</td>\n",
       "      <td>176</td>\n",
       "      <td>4</td>\n",
       "      <td>Chennai</td>\n",
       "      <td>Mustafizur Rahman</td>\n",
       "      <td>Anuj Rawat</td>\n",
       "      <td>Mustafizur Rahman</td>\n",
       "    </tr>\n",
       "  </tbody>\n",
       "</table>\n",
       "</div>"
      ],
      "text/plain": [
       "   id           date     team1    team2 toss_winner decision  first_score  \\\n",
       "0   1  March 22,2024  Banglore  Chennai    Banglore      Bat          173   \n",
       "\n",
       "   first_wkts  second_score  second_wkts   winner player_of_the_match  \\\n",
       "0           6           176            4  Chennai   Mustafizur Rahman   \n",
       "\n",
       "    most_runs          most_wkts  \n",
       "0  Anuj Rawat  Mustafizur Rahman  "
      ]
     },
     "execution_count": 29,
     "metadata": {},
     "output_type": "execute_result"
    }
   ],
   "source": [
    "df = pd.read_csv('ipl2024 Matches.csv')\n",
    "df.head(1)"
   ]
  },
  {
   "cell_type": "markdown",
   "id": "b7a2b62e",
   "metadata": {},
   "source": [
    "Checking the types, info and shape of dataset"
   ]
  },
  {
   "cell_type": "code",
   "execution_count": 30,
   "id": "d5a29e03",
   "metadata": {},
   "outputs": [
    {
     "name": "stdout",
     "output_type": "stream",
     "text": [
      "id                      int64\n",
      "date                   object\n",
      "team1                  object\n",
      "team2                  object\n",
      "toss_winner            object\n",
      "decision               object\n",
      "first_score             int64\n",
      "first_wkts              int64\n",
      "second_score            int64\n",
      "second_wkts             int64\n",
      "winner                 object\n",
      "player_of_the_match    object\n",
      "most_runs              object\n",
      "most_wkts              object\n",
      "dtype: object\n",
      "<class 'pandas.core.frame.DataFrame'>\n",
      "RangeIndex: 74 entries, 0 to 73\n",
      "Data columns (total 14 columns):\n",
      " #   Column               Non-Null Count  Dtype \n",
      "---  ------               --------------  ----- \n",
      " 0   id                   74 non-null     int64 \n",
      " 1   date                 74 non-null     object\n",
      " 2   team1                74 non-null     object\n",
      " 3   team2                74 non-null     object\n",
      " 4   toss_winner          74 non-null     object\n",
      " 5   decision             71 non-null     object\n",
      " 6   first_score          74 non-null     int64 \n",
      " 7   first_wkts           74 non-null     int64 \n",
      " 8   second_score         74 non-null     int64 \n",
      " 9   second_wkts          74 non-null     int64 \n",
      " 10  winner               74 non-null     object\n",
      " 11  player_of_the_match  71 non-null     object\n",
      " 12  most_runs            71 non-null     object\n",
      " 13  most_wkts            71 non-null     object\n",
      "dtypes: int64(5), object(9)\n",
      "memory usage: 8.2+ KB\n",
      "None\n",
      "(74, 14)\n"
     ]
    }
   ],
   "source": [
    "print(df.dtypes)\n",
    "print(df.info())\n",
    "print(df.shape)"
   ]
  },
  {
   "cell_type": "markdown",
   "id": "d307ea84",
   "metadata": {},
   "source": [
    "Dropping irrelevent columns"
   ]
  },
  {
   "cell_type": "code",
   "execution_count": 31,
   "id": "ebd6be45",
   "metadata": {},
   "outputs": [
    {
     "data": {
      "text/html": [
       "<div>\n",
       "<style scoped>\n",
       "    .dataframe tbody tr th:only-of-type {\n",
       "        vertical-align: middle;\n",
       "    }\n",
       "\n",
       "    .dataframe tbody tr th {\n",
       "        vertical-align: top;\n",
       "    }\n",
       "\n",
       "    .dataframe thead th {\n",
       "        text-align: right;\n",
       "    }\n",
       "</style>\n",
       "<table border=\"1\" class=\"dataframe\">\n",
       "  <thead>\n",
       "    <tr style=\"text-align: right;\">\n",
       "      <th></th>\n",
       "      <th>id</th>\n",
       "      <th>date</th>\n",
       "      <th>team1</th>\n",
       "      <th>team2</th>\n",
       "      <th>toss_winner</th>\n",
       "      <th>decision</th>\n",
       "      <th>first_score</th>\n",
       "      <th>first_wkts</th>\n",
       "      <th>second_score</th>\n",
       "      <th>second_wkts</th>\n",
       "      <th>winner</th>\n",
       "    </tr>\n",
       "  </thead>\n",
       "  <tbody>\n",
       "    <tr>\n",
       "      <th>0</th>\n",
       "      <td>1</td>\n",
       "      <td>March 22,2024</td>\n",
       "      <td>Banglore</td>\n",
       "      <td>Chennai</td>\n",
       "      <td>Banglore</td>\n",
       "      <td>Bat</td>\n",
       "      <td>173</td>\n",
       "      <td>6</td>\n",
       "      <td>176</td>\n",
       "      <td>4</td>\n",
       "      <td>Chennai</td>\n",
       "    </tr>\n",
       "    <tr>\n",
       "      <th>1</th>\n",
       "      <td>2</td>\n",
       "      <td>March 23,2024</td>\n",
       "      <td>Delhi</td>\n",
       "      <td>Punjab</td>\n",
       "      <td>Punjab</td>\n",
       "      <td>Field</td>\n",
       "      <td>174</td>\n",
       "      <td>9</td>\n",
       "      <td>177</td>\n",
       "      <td>6</td>\n",
       "      <td>Punjab</td>\n",
       "    </tr>\n",
       "    <tr>\n",
       "      <th>2</th>\n",
       "      <td>3</td>\n",
       "      <td>March 23,2024</td>\n",
       "      <td>Kolkata</td>\n",
       "      <td>Hyderabad</td>\n",
       "      <td>Hyderabad</td>\n",
       "      <td>Field</td>\n",
       "      <td>208</td>\n",
       "      <td>7</td>\n",
       "      <td>204</td>\n",
       "      <td>7</td>\n",
       "      <td>Kolkata</td>\n",
       "    </tr>\n",
       "    <tr>\n",
       "      <th>3</th>\n",
       "      <td>4</td>\n",
       "      <td>March 24,2024</td>\n",
       "      <td>Rajasthan</td>\n",
       "      <td>Lucknow</td>\n",
       "      <td>Rajasthan</td>\n",
       "      <td>Bat</td>\n",
       "      <td>193</td>\n",
       "      <td>4</td>\n",
       "      <td>173</td>\n",
       "      <td>6</td>\n",
       "      <td>Rajasthan</td>\n",
       "    </tr>\n",
       "    <tr>\n",
       "      <th>4</th>\n",
       "      <td>5</td>\n",
       "      <td>March 24,2024</td>\n",
       "      <td>Gujarat</td>\n",
       "      <td>Mumbai</td>\n",
       "      <td>Mumbai</td>\n",
       "      <td>Field</td>\n",
       "      <td>168</td>\n",
       "      <td>6</td>\n",
       "      <td>162</td>\n",
       "      <td>9</td>\n",
       "      <td>Gujarat</td>\n",
       "    </tr>\n",
       "  </tbody>\n",
       "</table>\n",
       "</div>"
      ],
      "text/plain": [
       "   id           date      team1      team2 toss_winner decision  first_score  \\\n",
       "0   1  March 22,2024   Banglore    Chennai    Banglore      Bat          173   \n",
       "1   2  March 23,2024      Delhi     Punjab      Punjab    Field          174   \n",
       "2   3  March 23,2024    Kolkata  Hyderabad   Hyderabad    Field          208   \n",
       "3   4  March 24,2024  Rajasthan    Lucknow   Rajasthan      Bat          193   \n",
       "4   5  March 24,2024    Gujarat     Mumbai      Mumbai    Field          168   \n",
       "\n",
       "   first_wkts  second_score  second_wkts     winner  \n",
       "0           6           176            4    Chennai  \n",
       "1           9           177            6     Punjab  \n",
       "2           7           204            7    Kolkata  \n",
       "3           4           173            6  Rajasthan  \n",
       "4           6           162            9    Gujarat  "
      ]
     },
     "execution_count": 31,
     "metadata": {},
     "output_type": "execute_result"
    }
   ],
   "source": [
    "df = df.drop(columns = ['player_of_the_match','most_wkts','most_runs'], axis =1)\n",
    "df.head()"
   ]
  },
  {
   "cell_type": "markdown",
   "id": "7bab7dff",
   "metadata": {},
   "source": [
    "Dropping the duplicate values"
   ]
  },
  {
   "cell_type": "code",
   "execution_count": 32,
   "id": "4afa8c68",
   "metadata": {},
   "outputs": [
    {
     "name": "stdout",
     "output_type": "stream",
     "text": [
      "Empty DataFrame\n",
      "Columns: [id, date, team1, team2, toss_winner, decision, first_score, first_wkts, second_score, second_wkts, winner]\n",
      "Index: []\n"
     ]
    }
   ],
   "source": [
    "df_duplicate = df[df.duplicated()]\n",
    "print(df_duplicate)"
   ]
  },
  {
   "cell_type": "markdown",
   "id": "2b9d0ed2",
   "metadata": {},
   "source": [
    "Here we donot have any duplicate values"
   ]
  },
  {
   "cell_type": "markdown",
   "id": "9707f0f0",
   "metadata": {},
   "source": [
    "Dropping the null values"
   ]
  },
  {
   "cell_type": "code",
   "execution_count": 33,
   "id": "8cd3b8ae",
   "metadata": {},
   "outputs": [
    {
     "name": "stdout",
     "output_type": "stream",
     "text": [
      "id              0\n",
      "date            0\n",
      "team1           0\n",
      "team2           0\n",
      "toss_winner     0\n",
      "decision        3\n",
      "first_score     0\n",
      "first_wkts      0\n",
      "second_score    0\n",
      "second_wkts     0\n",
      "winner          0\n",
      "dtype: int64\n"
     ]
    }
   ],
   "source": [
    "print(df.isnull().sum())\n"
   ]
  },
  {
   "cell_type": "code",
   "execution_count": 34,
   "id": "62b1b57e",
   "metadata": {},
   "outputs": [
    {
     "name": "stdout",
     "output_type": "stream",
     "text": [
      "id              0\n",
      "date            0\n",
      "team1           0\n",
      "team2           0\n",
      "toss_winner     0\n",
      "decision        0\n",
      "first_score     0\n",
      "first_wkts      0\n",
      "second_score    0\n",
      "second_wkts     0\n",
      "winner          0\n",
      "dtype: int64\n"
     ]
    }
   ],
   "source": [
    "df = df.dropna()\n",
    "print(df.isnull().sum())\n"
   ]
  },
  {
   "cell_type": "markdown",
   "id": "5808d679",
   "metadata": {},
   "source": [
    "Data Cleaning is done"
   ]
  },
  {
   "cell_type": "markdown",
   "id": "5cc95fdd",
   "metadata": {},
   "source": [
    "Detecting the outliers using boxplot"
   ]
  },
  {
   "cell_type": "code",
   "execution_count": 35,
   "id": "87cb82d7",
   "metadata": {},
   "outputs": [
    {
     "data": {
      "image/png": "[encoded data removed]",
      "text/plain": [
       "<Figure size 640x480 with 1 Axes>"
      ]
     },
     "metadata": {},
     "output_type": "display_data"
    }
   ],
   "source": [
    "sns.boxplot(x='first_score', y='second_score', data=df)\n",
    "plt.title('First Score vs Second Score')\n",
    "plt.xlabel('Score of team1')\n",
    "plt.ylabel('Score of team2')\n",
    "plt.show()\n"
   ]
  },
  {
   "cell_type": "code",
   "execution_count": 36,
   "id": "189e9f2d",
   "metadata": {},
   "outputs": [
    {
     "data": {
      "image/png": "[encoded data removed]",
      "text/plain": [
       "<Figure size 640x480 with 1 Axes>"
      ]
     },
     "metadata": {},
     "output_type": "display_data"
    }
   ],
   "source": [
    "sns.boxplot(x='first_wkts', y='second_wkts', data=df)\n",
    "plt.title('First Wickets vs Second Wickets')\n",
    "plt.xlabel('Wickets of team1')\n",
    "plt.ylabel('Wickets of team2')\n",
    "plt.show()\n"
   ]
  },
  {
   "cell_type": "markdown",
   "id": "9fa65c77",
   "metadata": {},
   "source": [
    "Removing the outliers"
   ]
  },
  {
   "cell_type": "code",
   "execution_count": 37,
   "id": "032f657d",
   "metadata": {},
   "outputs": [
    {
     "name": "stdout",
     "output_type": "stream",
     "text": [
      "IQR:\n",
      " id              35.0\n",
      "first_score     44.0\n",
      "first_wkts       3.0\n",
      "second_score    47.0\n",
      "second_wkts      4.0\n",
      "dtype: float64\n"
     ]
    }
   ],
   "source": [
    "Q1 = df.select_dtypes(include=[np.number]).quantile(0.25)\n",
    "Q3 = df.select_dtypes(include=[np.number]).quantile(0.75)\n",
    "IQR = Q3 - Q1\n",
    "print(\"IQR:\\n\", IQR)"
   ]
  },
  {
   "cell_type": "code",
   "execution_count": 38,
   "id": "941fc638",
   "metadata": {},
   "outputs": [],
   "source": [
    "df = df[~((df.select_dtypes(include=[np.number]) < (Q1 - 1.5 * IQR)) | (df.select_dtypes(include=[np.number]) > (Q3 + 1.5 * IQR))).any(axis=1)]"
   ]
  },
  {
   "cell_type": "markdown",
   "id": "9a7d9fd6",
   "metadata": {},
   "source": [
    "Visulalizing the data using barplot"
   ]
  },
  {
   "cell_type": "code",
   "execution_count": 39,
   "id": "9aec35e8",
   "metadata": {},
   "outputs": [
    {
     "name": "stderr",
     "output_type": "stream",
     "text": [
      "/tmp/ipykernel_5643/3489206609.py:5: UserWarning: No artists with labels found to put in legend.  Note that artists whose label start with an underscore are ignored when legend() is called with no argument.\n",
      "  plt.legend(title='Match Winner')\n"
     ]
    },
    {
     "data": {
      "image/png": "[encoded data removed]",
      "text/plain": [
       "<Figure size 640x480 with 1 Axes>"
      ]
     },
     "metadata": {},
     "output_type": "display_data"
    }
   ],
   "source": [
    "sns.boxplot(x='first_score', y='second_score', data=df,)\n",
    "plt.title('First Score vs Second Score by Match Winner')\n",
    "plt.xlabel('Score of team1')\n",
    "plt.ylabel('Score of team2')\n",
    "plt.legend(title='Match Winner')\n",
    "plt.show()"
   ]
  },
  {
   "cell_type": "code",
   "execution_count": 40,
   "id": "c432b929",
   "metadata": {},
   "outputs": [
    {
     "data": {
      "image/png": "[encoded data removed]",
      "text/plain": [
       "<Figure size 640x480 with 1 Axes>"
      ]
     },
     "metadata": {},
     "output_type": "display_data"
    }
   ],
   "source": [
    "sns.histplot(data=df, x='first_score')\n",
    "plt.title('Distribution of First Team Scores')\n",
    "plt.xlabel('First Team Score')\n",
    "plt.ylabel('Frequency')\n",
    "plt.show()"
   ]
  },
  {
   "cell_type": "markdown",
   "id": "fad28e64",
   "metadata": {},
   "source": [
    "Correlation Heatmap"
   ]
  },
  {
   "cell_type": "code",
   "execution_count": 41,
   "id": "1c33d383",
   "metadata": {},
   "outputs": [
    {
     "data": {
      "image/png": "[encoded data removed]",
      "text/plain": [
       "<Figure size 1000x800 with 2 Axes>"
      ]
     },
     "metadata": {},
     "output_type": "display_data"
    }
   ],
   "source": [
    "corr = df.corr(numeric_only=True)\n",
    "plt.figure(figsize=(10, 8))\n",
    "sns.heatmap(corr, annot=True, fmt=\".2f\", cmap='coolwarm')\n",
    "plt.title('Correlation Heatmap')\n",
    "plt.show()"
   ]
  },
  {
   "cell_type": "markdown",
   "id": "4e2f833e",
   "metadata": {},
   "source": [
    "PCA implementation"
   ]
  },
  {
   "cell_type": "code",
   "execution_count": 42,
   "id": "eee680c4",
   "metadata": {},
   "outputs": [],
   "source": [
    "from sklearn.preprocessing import StandardScaler\n",
    "from sklearn.decomposition import PCA\n",
    "from sklearn.model_selection import train_test_split\n",
    "from sklearn.linear_model import LogisticRegression, LinearRegression\n",
    "from sklearn.metrics import confusion_matrix, accuracy_score, classification_report"
   ]
  },
  {
   "cell_type": "code",
   "execution_count": 43,
   "id": "c32f2f5e",
   "metadata": {},
   "outputs": [
    {
     "data": {
      "text/plain": [
       "array([[-1.70603843, -0.46008803, -0.19376351, -0.01327946, -0.75592631],\n",
       "       [-1.65832191, -0.43008228,  1.23870242,  0.01944493, -0.02643099],\n",
       "       [-1.61060539,  0.5901129 ,  0.28372513,  0.90300352,  0.33831667],\n",
       "       [-1.56288887,  0.14002679, -1.14874079, -0.11145264, -0.02643099],\n",
       "       [-1.51517236, -0.61011673, -0.19376351, -0.47142096,  1.06781198],\n",
       "       [-1.46745584, -0.3700708 , -0.19376351,  0.05216932, -0.02643099],\n",
       "       [-1.41973932,  0.53010142, -0.19376351, -1.09318441,  0.70306433],\n",
       "       [-1.32430628, -0.10001914, -0.67125215, -0.11145264, -0.39117865],\n",
       "       [-1.27658976, -0.19003636, -0.19376351,  0.31396446, -1.12067396],\n",
       "       [-1.22887324,  0.32006123,  0.76121378,  0.05216932, -0.39117865],\n",
       "       [-1.18115672, -0.79015117,  0.76121378, -0.2750746 , -1.12067396],\n",
       "       [-1.13344021,  0.08001531, -0.67125215, -0.17690142, -0.02643099],\n",
       "       [-1.08572369, -1.90036358,  1.23870242, -1.61677469, -0.75592631],\n",
       "       [-1.03800717, -0.2200421 , -0.67125215, -0.76594049,  1.43255964],\n",
       "       [-0.99029065,  2.51048031,  0.28372513, -0.34052339,  1.43255964],\n",
       "       [-0.94257413,  0.32006123, -1.14874079,  0.77210595,  0.33831667],\n",
       "       [-0.89485761, -0.70013395, -0.67125215, -0.34052339, -0.75592631],\n",
       "       [-0.84714109, -0.16003062, -1.62622943,  0.41213764, -0.75592631],\n",
       "       [-0.79942457,  1.37026216, -0.67125215,  0.93572791,  0.70306433],\n",
       "       [-0.75170806, -0.76014543, -0.67125215, -1.51860151,  1.43255964],\n",
       "       [-0.70399154, -1.54029469,  1.23870242, -1.15863319, -1.12067396],\n",
       "       [-0.65627502, -0.19003636,  1.23870242,  0.11761811, -0.02643099],\n",
       "       [-0.6085585 ,  0.23004401, -1.62622943,  0.73938156,  0.33831667],\n",
       "       [-0.56084198,  0.23004401,  0.76121378,  0.73938156, -1.12067396],\n",
       "       [-0.51312546, -0.64012247,  0.28372513, -0.20962582, -0.75592631],\n",
       "       [-0.46540894, -1.24023729,  0.76121378, -0.79866488,  0.33831667],\n",
       "       [-0.41769242, -0.82015691,  0.28372513, -0.47142096, -1.48542162],\n",
       "       [-0.36997591,  0.53010142, -1.14874079,  0.31396446, -0.02643099],\n",
       "       [-0.32225939, -0.04000765, -1.62622943,  2.80101827,  0.33831667],\n",
       "       [-0.27454287,  1.04019901, -0.19376351,  1.55749137,  0.70306433],\n",
       "       [-0.17910983,  0.11002105,  0.28372513,  0.21579128,  1.43255964],\n",
       "       [-0.13139331, -0.3700708 , -0.19376351,  0.11761811, -1.48542162],\n",
       "       [-0.08367679,  2.33044587,  0.28372513,  0.73938156,  1.43255964],\n",
       "       [-0.03596027,  1.01019327, -0.19376351,  1.45931819,  1.43255964],\n",
       "       [ 0.01175624, -1.39026599,  1.71619106, -0.99501123,  0.33831667],\n",
       "       [ 0.05947276, -0.28005358,  1.23870242,  0.21579128, -1.85016928],\n",
       "       [ 0.10718928,  0.65012438, -1.14874079,  1.19752305, -0.75592631],\n",
       "       [ 0.1549058 ,  1.07020475, -1.14874079,  1.4265938 ,  0.70306433],\n",
       "       [ 0.20262232,  0.53010142,  0.28372513, -0.17690142,  0.70306433],\n",
       "       [ 0.25033884,  2.18041716, -0.19376351,  2.80101827, -1.48542162],\n",
       "       [ 0.29805536,  2.0603942 , -1.14874079,  2.31015239,  1.06781198],\n",
       "       [ 0.34577187,  0.23004401, -0.67125215,  0.73938156, -1.12067396],\n",
       "       [ 0.39348839,  0.35006698, -1.62622943,  0.96845231, -1.85016928],\n",
       "       [ 0.44120491,  0.71013587, -1.62622943, -1.38770394,  1.43255964],\n",
       "       [ 0.48892143, -1.06020284,  1.23870242, -0.63504292, -1.12067396],\n",
       "       [ 0.53663795, -1.33025451,  0.28372513, -1.02773562, -0.02643099],\n",
       "       [ 0.58435447, -0.79015117,  0.28372513, -0.43869656, -1.12067396],\n",
       "       [ 0.63207099,  0.38007272, -1.62622943,  0.77210595,  0.33831667],\n",
       "       [ 0.67978751, -0.58011099,  1.71619106, -1.02773562,  1.43255964],\n",
       "       [ 0.72750402, -1.24023729,  1.71619106, -0.79866488, -0.02643099],\n",
       "       [ 0.77522054, -0.64012247,  1.23870242, -1.22408198,  1.06781198],\n",
       "       [ 0.82293706,  1.4002679 , -0.19376351, -1.28953076,  1.43255964],\n",
       "       [ 0.87065358, -0.46008803,  0.76121378, -0.07872825, -1.12067396],\n",
       "       [ 0.9183701 ,  0.98018753,  0.76121378,  0.80483034,  0.70306433],\n",
       "       [ 0.96608662, -0.70013395, -1.14874079, -0.30779899, -2.21491694],\n",
       "       [ 1.01380314,  1.58030235,  0.28372513,  0.1503425 ,  1.43255964],\n",
       "       [ 1.06151966,  1.28024494, -1.62622943,  0.64120838,  0.70306433],\n",
       "       [ 1.10923617, -0.94017988,  0.28372513, -1.22408198,  0.70306433],\n",
       "       [ 1.15695269, -1.42027173, -0.67125215, -1.02773562, -0.39117865],\n",
       "       [ 1.20466921, -0.04000765,  1.23870242, -1.19135759,  1.43255964],\n",
       "       [ 1.30010225,  0.5901129 , -1.14874079,  0.41213764,  1.06781198],\n",
       "       [ 1.34781877, -1.33025451,  1.23870242, -1.02773562, -0.39117865],\n",
       "       [ 1.44325181,  0.77014735, -0.19376351,  0.64120838, -0.02643099],\n",
       "       [ 1.49096832,  0.89017031, -0.67125215,  0.47758642,  0.33831667],\n",
       "       [ 1.53868484,  0.77014735, -0.67125215,  1.26297184, -0.02643099],\n",
       "       [ 1.63411788, -0.8801684 ,  1.71619106, -0.40597217, -1.48542162],\n",
       "       [ 1.6818344 , -0.49009377,  0.76121378, -0.07872825, -0.02643099],\n",
       "       [ 1.72955092, -0.40007654,  1.23870242, -1.22408198,  0.33831667],\n",
       "       [ 1.77726744, -2.26043247,  1.71619106, -2.04219179, -1.48542162]])"
      ]
     },
     "execution_count": 43,
     "metadata": {},
     "output_type": "execute_result"
    }
   ],
   "source": [
    "scaler = StandardScaler()\n",
    "X_scaled = scaler.fit_transform(df.select_dtypes(include=[np.number]))\n",
    "X_scaled"
   ]
  },
  {
   "cell_type": "code",
   "execution_count": 44,
   "id": "c45191e5",
   "metadata": {},
   "outputs": [
    {
     "data": {
      "text/html": [
       "<div>\n",
       "<style scoped>\n",
       "    .dataframe tbody tr th:only-of-type {\n",
       "        vertical-align: middle;\n",
       "    }\n",
       "\n",
       "    .dataframe tbody tr th {\n",
       "        vertical-align: top;\n",
       "    }\n",
       "\n",
       "    .dataframe thead th {\n",
       "        text-align: right;\n",
       "    }\n",
       "</style>\n",
       "<table border=\"1\" class=\"dataframe\">\n",
       "  <thead>\n",
       "    <tr style=\"text-align: right;\">\n",
       "      <th></th>\n",
       "      <th>id</th>\n",
       "      <th>date</th>\n",
       "      <th>team1</th>\n",
       "      <th>team2</th>\n",
       "      <th>toss_winner</th>\n",
       "      <th>decision</th>\n",
       "      <th>first_score</th>\n",
       "      <th>first_wkts</th>\n",
       "      <th>second_wkts</th>\n",
       "      <th>winner</th>\n",
       "    </tr>\n",
       "  </thead>\n",
       "  <tbody>\n",
       "    <tr>\n",
       "      <th>0</th>\n",
       "      <td>1</td>\n",
       "      <td>March 22,2024</td>\n",
       "      <td>Banglore</td>\n",
       "      <td>Chennai</td>\n",
       "      <td>Banglore</td>\n",
       "      <td>Bat</td>\n",
       "      <td>173</td>\n",
       "      <td>6</td>\n",
       "      <td>4</td>\n",
       "      <td>Chennai</td>\n",
       "    </tr>\n",
       "    <tr>\n",
       "      <th>1</th>\n",
       "      <td>2</td>\n",
       "      <td>March 23,2024</td>\n",
       "      <td>Delhi</td>\n",
       "      <td>Punjab</td>\n",
       "      <td>Punjab</td>\n",
       "      <td>Field</td>\n",
       "      <td>174</td>\n",
       "      <td>9</td>\n",
       "      <td>6</td>\n",
       "      <td>Punjab</td>\n",
       "    </tr>\n",
       "    <tr>\n",
       "      <th>2</th>\n",
       "      <td>3</td>\n",
       "      <td>March 23,2024</td>\n",
       "      <td>Kolkata</td>\n",
       "      <td>Hyderabad</td>\n",
       "      <td>Hyderabad</td>\n",
       "      <td>Field</td>\n",
       "      <td>208</td>\n",
       "      <td>7</td>\n",
       "      <td>7</td>\n",
       "      <td>Kolkata</td>\n",
       "    </tr>\n",
       "    <tr>\n",
       "      <th>3</th>\n",
       "      <td>4</td>\n",
       "      <td>March 24,2024</td>\n",
       "      <td>Rajasthan</td>\n",
       "      <td>Lucknow</td>\n",
       "      <td>Rajasthan</td>\n",
       "      <td>Bat</td>\n",
       "      <td>193</td>\n",
       "      <td>4</td>\n",
       "      <td>6</td>\n",
       "      <td>Rajasthan</td>\n",
       "    </tr>\n",
       "    <tr>\n",
       "      <th>4</th>\n",
       "      <td>5</td>\n",
       "      <td>March 24,2024</td>\n",
       "      <td>Gujarat</td>\n",
       "      <td>Mumbai</td>\n",
       "      <td>Mumbai</td>\n",
       "      <td>Field</td>\n",
       "      <td>168</td>\n",
       "      <td>6</td>\n",
       "      <td>9</td>\n",
       "      <td>Gujarat</td>\n",
       "    </tr>\n",
       "    <tr>\n",
       "      <th>...</th>\n",
       "      <td>...</td>\n",
       "      <td>...</td>\n",
       "      <td>...</td>\n",
       "      <td>...</td>\n",
       "      <td>...</td>\n",
       "      <td>...</td>\n",
       "      <td>...</td>\n",
       "      <td>...</td>\n",
       "      <td>...</td>\n",
       "      <td>...</td>\n",
       "    </tr>\n",
       "    <tr>\n",
       "      <th>68</th>\n",
       "      <td>69</td>\n",
       "      <td>May 19,2024</td>\n",
       "      <td>Punjab</td>\n",
       "      <td>Hyderabad</td>\n",
       "      <td>Punjab</td>\n",
       "      <td>Bat</td>\n",
       "      <td>214</td>\n",
       "      <td>5</td>\n",
       "      <td>6</td>\n",
       "      <td>Hyderabad</td>\n",
       "    </tr>\n",
       "    <tr>\n",
       "      <th>70</th>\n",
       "      <td>71</td>\n",
       "      <td>May 21,2024</td>\n",
       "      <td>Hyderabad</td>\n",
       "      <td>Kolkata</td>\n",
       "      <td>Hyderabad</td>\n",
       "      <td>Bat</td>\n",
       "      <td>159</td>\n",
       "      <td>10</td>\n",
       "      <td>2</td>\n",
       "      <td>Kolkata</td>\n",
       "    </tr>\n",
       "    <tr>\n",
       "      <th>71</th>\n",
       "      <td>72</td>\n",
       "      <td>May 22,2024</td>\n",
       "      <td>Banglore</td>\n",
       "      <td>Rajasthan</td>\n",
       "      <td>Rajasthan</td>\n",
       "      <td>Field</td>\n",
       "      <td>172</td>\n",
       "      <td>8</td>\n",
       "      <td>6</td>\n",
       "      <td>Rajasthan</td>\n",
       "    </tr>\n",
       "    <tr>\n",
       "      <th>72</th>\n",
       "      <td>73</td>\n",
       "      <td>May 24,2024</td>\n",
       "      <td>Hyderabad</td>\n",
       "      <td>Rajasthan</td>\n",
       "      <td>Rajasthan</td>\n",
       "      <td>Field</td>\n",
       "      <td>175</td>\n",
       "      <td>9</td>\n",
       "      <td>7</td>\n",
       "      <td>Hyderabad</td>\n",
       "    </tr>\n",
       "    <tr>\n",
       "      <th>73</th>\n",
       "      <td>74</td>\n",
       "      <td>May 26,2024</td>\n",
       "      <td>Hyderabad</td>\n",
       "      <td>Kolkata</td>\n",
       "      <td>Hyderabad</td>\n",
       "      <td>Bat</td>\n",
       "      <td>113</td>\n",
       "      <td>10</td>\n",
       "      <td>2</td>\n",
       "      <td>Kolkata</td>\n",
       "    </tr>\n",
       "  </tbody>\n",
       "</table>\n",
       "<p>69 rows × 10 columns</p>\n",
       "</div>"
      ],
      "text/plain": [
       "    id           date      team1      team2 toss_winner decision  first_score  \\\n",
       "0    1  March 22,2024   Banglore    Chennai    Banglore      Bat          173   \n",
       "1    2  March 23,2024      Delhi     Punjab      Punjab    Field          174   \n",
       "2    3  March 23,2024    Kolkata  Hyderabad   Hyderabad    Field          208   \n",
       "3    4  March 24,2024  Rajasthan    Lucknow   Rajasthan      Bat          193   \n",
       "4    5  March 24,2024    Gujarat     Mumbai      Mumbai    Field          168   \n",
       "..  ..            ...        ...        ...         ...      ...          ...   \n",
       "68  69    May 19,2024     Punjab  Hyderabad      Punjab      Bat          214   \n",
       "70  71    May 21,2024  Hyderabad    Kolkata   Hyderabad      Bat          159   \n",
       "71  72    May 22,2024   Banglore  Rajasthan   Rajasthan    Field          172   \n",
       "72  73    May 24,2024  Hyderabad  Rajasthan   Rajasthan    Field          175   \n",
       "73  74    May 26,2024  Hyderabad    Kolkata   Hyderabad      Bat          113   \n",
       "\n",
       "    first_wkts  second_wkts     winner  \n",
       "0            6            4    Chennai  \n",
       "1            9            6     Punjab  \n",
       "2            7            7    Kolkata  \n",
       "3            4            6  Rajasthan  \n",
       "4            6            9    Gujarat  \n",
       "..         ...          ...        ...  \n",
       "68           5            6  Hyderabad  \n",
       "70          10            2    Kolkata  \n",
       "71           8            6  Rajasthan  \n",
       "72           9            7  Hyderabad  \n",
       "73          10            2    Kolkata  \n",
       "\n",
       "[69 rows x 10 columns]"
      ]
     },
     "execution_count": 44,
     "metadata": {},
     "output_type": "execute_result"
    }
   ],
   "source": [
    "X = df.drop('second_score', axis =1)\n",
    "y = df['second_score']\n",
    "X"
   ]
  },
  {
   "cell_type": "code",
   "execution_count": 45,
   "id": "110cbad0",
   "metadata": {},
   "outputs": [
    {
     "data": {
      "text/plain": [
       "0     176\n",
       "1     177\n",
       "2     204\n",
       "3     173\n",
       "4     162\n",
       "     ... \n",
       "68    215\n",
       "70    164\n",
       "71    174\n",
       "72    139\n",
       "73    114\n",
       "Name: second_score, Length: 69, dtype: int64"
      ]
     },
     "execution_count": 45,
     "metadata": {},
     "output_type": "execute_result"
    }
   ],
   "source": [
    "y\n"
   ]
  },
  {
   "cell_type": "markdown",
   "id": "3fbadfe9",
   "metadata": {},
   "source": [
    "Applying PCA into our Data Model"
   ]
  },
  {
   "cell_type": "code",
   "execution_count": 46,
   "metadata": {},
   "outputs": [
    {
     "data": {
      "text/plain": [
       "array([[-1.78149811e-01, -1.61239950e+00],\n",
       "       [-6.89037538e-01, -7.31298864e-01],\n",
       "       [ 9.82102645e-01, -6.56949223e-01],\n",
       "       [ 7.82803282e-01, -1.05144867e+00],\n",
       "       [-7.65526699e-02, -8.44727979e-02],\n",
       "       [ 7.03328740e-02, -9.47048932e-01],\n",
       "       [ 1.61309613e-01,  1.30056555e-01],\n",
       "       [ 2.74974131e-01, -1.13900275e+00],\n",
       "       [ 2.03932634e-02, -1.67623532e+00],\n",
       "       [-1.21810227e-01, -7.12483657e-01],\n",
       "       [-1.16017270e+00, -1.38934864e+00],\n",
       "       [ 4.17852491e-01, -7.10409527e-01],\n",
       "       [-2.72516427e+00, -8.57101911e-01],\n",
       "       [ 2.75372215e-01,  4.99888287e-01],\n",
       "       [ 1.65743478e+00,  1.25543943e+00],\n",
       "       [ 1.39741863e+00, -6.49517802e-01],\n",
       "       [-3.54780069e-01, -1.25329199e+00],\n",
       "       [ 8.63000392e-01, -1.52166758e+00],\n",
       "       [ 1.95158208e+00, -1.46370950e-05],\n",
       "       [-4.96417925e-01,  7.31645833e-01],\n",
       "       [-2.39498900e+00, -9.61036784e-01],\n",
       "       [-6.08447461e-01, -1.66703479e-01],\n",
       "       [ 1.52880423e+00, -5.90458933e-01],\n",
       "       [-6.25203083e-02, -1.09635851e+00],\n",
       "       [-7.76660389e-01, -8.55505553e-01],\n",
       "       [-1.42941909e+00,  1.00327932e-01],\n",
       "       [-1.22634902e+00, -1.31001313e+00],\n",
       "       [ 1.11108774e+00, -4.38574735e-01],\n",
       "       [ 2.46735260e+00, -1.05638814e+00],\n",
       "       [ 1.79142997e+00,  1.44194899e-01],\n",
       "       [ 4.27701289e-01,  9.85314354e-01],\n",
       "       [-4.23158535e-01, -1.31980595e+00],\n",
       "       [ 2.03718711e+00,  1.40702707e+00],\n",
       "       [ 1.87786355e+00,  8.26049658e-01],\n",
       "       [-2.16857837e+00,  5.89066157e-01],\n",
       "       [-1.15844342e+00, -1.16806240e+00],\n",
       "       [ 1.42683364e+00, -9.29077522e-01],\n",
       "       [ 2.17222734e+00,  2.00867551e-01],\n",
       "       [ 2.32602055e-01,  8.57623919e-01],\n",
       "       [ 2.53905406e+00, -1.25213333e+00],\n",
       "       [ 3.32901726e+00,  5.34520688e-01],\n",
       "       [ 5.58911003e-01, -9.34435989e-01],\n",
       "       [ 1.05009994e+00, -1.69300785e+00],\n",
       "       [ 8.03296317e-01,  1.45797034e+00],\n",
       "       [-1.95867000e+00, -3.53913376e-01],\n",
       "       [-1.57758844e+00,  3.02218885e-01],\n",
       "       [-1.21461217e+00, -5.08831105e-01],\n",
       "       [ 1.49138977e+00,  9.86087321e-02],\n",
       "       [-1.49904109e+00,  1.94396496e+00],\n",
       "       [-2.14764900e+00,  6.85968003e-01],\n",
       "       [-1.50490137e+00,  1.65921648e+00],\n",
       "       [ 4.99014371e-01,  2.11751317e+00],\n",
       "       [-1.09462946e+00, -2.69246053e-01],\n",
       "       [ 7.16325095e-01,  1.18659473e+00],\n",
       "       [-6.85238930e-01, -1.44418335e+00],\n",
       "       [ 1.13424465e+00,  1.97985982e+00],\n",
       "       [ 2.00249209e+00,  8.38513657e-01],\n",
       "       [-1.33220779e+00,  1.28604581e+00],\n",
       "       [-1.31240327e+00,  1.30558351e-01],\n",
       "       [-1.08386842e+00,  2.28573752e+00],\n",
       "       [ 1.28493889e+00,  1.24372334e+00],\n",
       "       [-2.25106148e+00,  6.83765235e-01],\n",
       "       [ 7.37438254e-01,  7.13062107e-01],\n",
       "       [ 1.04965065e+00,  9.70190667e-01],\n",
       "       [ 1.31088329e+00,  4.88585927e-01],\n",
       "       [-2.19465688e+00,  7.82770863e-02],\n",
       "       [-9.28109909e-01,  9.59591676e-01],\n",
       "       [-1.65915007e+00,  1.69010491e+00],\n",
       "       [-3.93998251e+00,  2.78334239e-01]])"
      ]
     },
     "execution_count": 46,
     "metadata": {},
     "output_type": "execute_result"
    }
   ],
   "source": [
    "pca = PCA(n_components=2)\n",
    "X_pca = pca.fit_transform(X_scaled)\n",
    "X_pca"
   ]
  },
  {
   "cell_type": "markdown",
   "id": "90f33f23",
   "metadata": {},
   "source": [
    "Splitting the model"
   ]
  },
  {
   "cell_type": "code",
   "execution_count": 47,
   "id": "b2dc374f",
   "metadata": {},
   "outputs": [
    {
     "name": "stdout",
     "output_type": "stream",
     "text": [
      "(51, 2)\n",
      "(51,)\n",
      "(18, 2)\n",
      "(18,)\n"
     ]
    }
   ],
   "source": [
    "X_train, X_test, y_train, y_test = train_test_split(X_pca, y)\n",
    "print(X_train.shape)\n",
    "print(y_train.shape)\n",
    "print(X_test.shape)\n",
    "print(y_test.shape)"
   ]
  },
  {
   "cell_type": "markdown",
   "id": "cf9e9f1b",
   "metadata": {},
   "source": [
    "Train the model"
   ]
  },
  {
   "cell_type": "code",
   "execution_count": 51,
   "id": "9220287a",
   "metadata": {},
   "outputs": [
    {
     "name": "stderr",
     "output_type": "stream",
     "text": [
      "/home/codespace/.local/lib/python3.12/site-packages/sklearn/utils/multiclass.py:213: UserWarning: The number of unique classes is greater than 50% of the number of samples.\n",
      "  y_type = type_of_target(y, input_name=\"y\")\n"
     ]
    },
    {
     "data": {
      "text/plain": [
       "array([199, 174, 199, 162, 262, 199, 145, 199, 145, 145, 196, 162, 145,\n",
       "       145, 199, 199, 174, 199])"
      ]
     },
     "execution_count": 51,
     "metadata": {},
     "output_type": "execute_result"
    }
   ],
   "source": [
    "model = LogisticRegression()\n",
    "model.fit(X_train, y_train)\n",
    "\n",
    "y_pred = model.predict(X_test)\n",
    "y_pred"
   ]
  },
  {
   "cell_type": "markdown",
   "id": "0eb228b5",
   "metadata": {},
   "source": [
    "Accuracy"
   ]
  },
  {
   "cell_type": "code",
   "execution_count": 52,
   "id": "83aeb0db",
   "metadata": {},
   "outputs": [
    {
     "data": {
      "text/plain": [
       "0.16666666666666666"
      ]
     },
     "execution_count": 52,
     "metadata": {},
     "output_type": "execute_result"
    }
   ],
   "source": [
    "accuracy = accuracy_score(y_test, y_pred)\n",
    "accuracy"
   ]
  }
 ],
 "metadata": {
  "kernelspec": {
   "display_name": "Python 3",
   "language": "python",
   "name": "python3"
  },
  "language_info": {
   "codemirror_mode": {
    "name": "ipython",
    "version": 3
   },
   "file_extension": ".py",
   "mimetype": "text/x-python",
   "name": "python",
   "nbconvert_exporter": "python",
   "pygments_lexer": "ipython3",
   "version": "3.12.1"
  }
 },
 "nbformat": 4,
 "nbformat_minor": 5
}
